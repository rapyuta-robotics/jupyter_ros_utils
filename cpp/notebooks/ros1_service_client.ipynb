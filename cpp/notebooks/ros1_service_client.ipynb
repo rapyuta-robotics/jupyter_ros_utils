{
 "cells": [
  {
   "cell_type": "markdown",
   "id": "64c1bbf9-59e8-4394-99ed-f6b67661a120",
   "metadata": {},
   "source": [
    "# **Tutorial to explore ROS 1 Service Client**"
   ]
  },
  {
   "cell_type": "markdown",
   "id": "d549d6c8-b592-4ea0-96a4-3f560173f42a",
   "metadata": {},
   "source": [
    "## **Prepare the environment for roscpp**\n",
    "\n",
    "**NOTE :-** Before starting the tutorial remember to run roscore in other terminal."
   ]
  },
  {
   "cell_type": "code",
   "execution_count": null,
   "id": "63d90ca3-3846-4095-8edd-0446db043711",
   "metadata": {},
   "outputs": [],
   "source": [
    "! ../scripts/generate_cling_3rd_party.py roscpp"
   ]
  },
  {
   "cell_type": "markdown",
   "id": "71eccea3-45f4-48fc-9fb1-760e894cb62f",
   "metadata": {},
   "source": [
    "! ../scripts/generate_cling_3rd_party.py roscpp_tutorials"
   ]
  },
  {
   "cell_type": "code",
   "execution_count": null,
   "id": "599149ab-5807-422f-8ea9-7cbd9cbe86b1",
   "metadata": {},
   "outputs": [],
   "source": [
    "#include \"load_roscpp.h\"\n",
    "#include \"load_roscpp_tutorials.h\""
   ]
  },
  {
   "cell_type": "markdown",
   "id": "3d65d573-6b8b-4953-b141-f86696c2ace0",
   "metadata": {},
   "source": [
    "Code below are taken from http://wiki.ros.org/ROS/Tutorials/WritingServiceClient%28c%2B%2B%29"
   ]
  },
  {
   "cell_type": "code",
   "execution_count": null,
   "id": "56bceb25-ebaf-4214-8166-ff9e0d73c501",
   "metadata": {},
   "outputs": [],
   "source": [
    "#include \"jupyter_ros_utils/ros1_jupyter.hpp\"\n",
    "#include <roscpp_tutorials/TwoInts.h>\n",
    "#include <cstdio>"
   ]
  },
  {
   "cell_type": "markdown",
   "id": "7cf1522c-9fdd-4e7a-8576-e785f71e38f1",
   "metadata": {},
   "source": [
    "### Initialize ROS Node"
   ]
  },
  {
   "cell_type": "code",
   "execution_count": null,
   "id": "67582ec4-48fa-464e-aa8f-adf4b0d52fb4",
   "metadata": {},
   "outputs": [],
   "source": [
    "ros_init(\"ROS1_Service_Client\");\n",
    "\n",
    "ros::NodeHandle n;"
   ]
  },
  {
   "cell_type": "markdown",
   "id": "85430399-dfda-4b71-a17d-7f8eee84a755",
   "metadata": {},
   "source": [
    "### Write a baisic service to Add two numbers"
   ]
  },
  {
   "cell_type": "code",
   "execution_count": null,
   "id": "de4077bd-7651-4327-87ea-8ec7d046e7e5",
   "metadata": {},
   "outputs": [],
   "source": [
    "bool add(roscpp_tutorials::TwoInts::Request  &req,\n",
    "         roscpp_tutorials::TwoInts::Response &res)\n",
    "{\n",
    "  res.sum = req.a + req.b;\n",
    "  ROS_INFO(\"request: x=%ld, y=%ld\", (long int)req.a, (long int)req.b);\n",
    "  ROS_INFO(\"sending back response: [%ld]\", (long int)res.sum);\n",
    "  return true;\n",
    "}"
   ]
  },
  {
   "cell_type": "code",
   "execution_count": null,
   "id": "b4db6c4e-b2e1-41ca-9d82-a34ff76bfb4e",
   "metadata": {},
   "outputs": [],
   "source": [
    "ros::ServiceServer service = n.advertiseService(\"add_two_ints\", add);\n",
    "std::cout<<\"Ready to add two ints.\\n\";"
   ]
  },
  {
   "cell_type": "markdown",
   "id": "90fa6e06-e717-49c6-bea0-e105b137a98b",
   "metadata": {},
   "source": [
    "### Write a client which uses the above service"
   ]
  },
  {
   "cell_type": "code",
   "execution_count": null,
   "id": "10e4d921-7dc4-4545-80a9-654d725ae9f7",
   "metadata": {},
   "outputs": [],
   "source": [
    "ros::ServiceClient client = n.serviceClient<roscpp_tutorials::TwoInts>(\"add_two_ints\");\n",
    "roscpp_tutorials::TwoInts srv;"
   ]
  },
  {
   "cell_type": "code",
   "execution_count": null,
   "id": "4fbf0dd1-0101-4380-a068-53989ef42573",
   "metadata": {},
   "outputs": [],
   "source": [
    "srv.request.a = 1;\n",
    "srv.request.b = 2;\n",
    "if (client.call(srv))\n",
    "{\n",
    "    printf(\"Sum: %ld\\n\", (long int)srv.response.sum);\n",
    "    ROS_INFO(\"Sum: %ld\\n\", (long int)srv.response.sum);\n",
    "}\n",
    "else\n",
    "{\n",
    "    printf(\"Failed to call service add_two_ints\\n\");\n",
    "    ROS_INFO(\"Failed to call service add_two_ints\\n\");\n",
    "}"
   ]
  }
 ],
 "metadata": {
  "kernelspec": {
   "display_name": "C++17",
   "language": "C++17",
   "name": "xcpp17"
  },
  "language_info": {
   "codemirror_mode": "text/x-c++src",
   "file_extension": ".cpp",
   "mimetype": "text/x-c++src",
   "name": "c++",
   "version": "-std=c++17"
  }
 },
 "nbformat": 4,
 "nbformat_minor": 5
}
