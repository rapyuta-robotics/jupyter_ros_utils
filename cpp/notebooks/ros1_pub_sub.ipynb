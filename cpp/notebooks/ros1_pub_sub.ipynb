{
 "cells": [
  {
   "cell_type": "markdown",
   "id": "47c95086-4446-4242-9fef-4f59d727f781",
   "metadata": {},
   "source": [
    "# **Tutorial to explore ROS1 Publisher and Subscriber**"
   ]
  },
  {
   "cell_type": "markdown",
   "id": "928ce32b-b770-48a7-9f27-4c2ab4b5353c",
   "metadata": {},
   "source": [
    "## **Prepare the environment for roscpp**\n",
    "\n",
    "**NOTE :-** Before starting the tutorial remember to run roscore in other terminal."
   ]
  },
  {
   "cell_type": "code",
   "execution_count": null,
   "id": "0fc8fac8-6455-4cb9-9e95-2eb9e6ffd263",
   "metadata": {},
   "outputs": [],
   "source": [
    "! ../scripts/generate_cling_3rd_party.py roscpp"
   ]
  },
  {
   "cell_type": "code",
   "execution_count": null,
   "id": "04089009",
   "metadata": {},
   "outputs": [],
   "source": [
    "#include \"load_roscpp.h\""
   ]
  },
  {
   "cell_type": "markdown",
   "id": "1d3fd55b",
   "metadata": {},
   "source": [
    "Code below is taken from\n",
    "http://wiki.ros.org/ROS/Tutorials/WritingPublisherSubscriber%28c%2B%2B%29"
   ]
  },
  {
   "cell_type": "code",
   "execution_count": null,
   "id": "7073b3d9",
   "metadata": {},
   "outputs": [],
   "source": [
    "#include \"jupyter_ros_utils/ros1_jupyter.hpp\"\n",
    "#include <std_msgs/String.h>\n",
    "#include <cstring>\n",
    "#include <iostream>"
   ]
  },
  {
   "cell_type": "markdown",
   "id": "00ac9223-36c8-4387-8ace-5e0d8ea95464",
   "metadata": {},
   "source": [
    "## Initialize ROS node"
   ]
  },
  {
   "cell_type": "code",
   "execution_count": null,
   "id": "e8019d3a-8c83-48c0-a979-5b98c04bec51",
   "metadata": {},
   "outputs": [],
   "source": [
    "ros_init(\"ROS1_Pub_Sub\");\n",
    "\n",
    "ros::NodeHandle n;"
   ]
  },
  {
   "cell_type": "markdown",
   "id": "1682604e-7456-4ce1-9f68-76d72e717406",
   "metadata": {},
   "source": [
    "### Write a basic subscriber which will look for values published in the topic we define\n",
    "Define the callback function for subscriber"
   ]
  },
  {
   "cell_type": "code",
   "execution_count": null,
   "id": "6994ade1-575e-4251-99f4-7b4c5937e1df",
   "metadata": {},
   "outputs": [],
   "source": [
    "void chatterCallback(const std_msgs::String::ConstPtr& msg)\n",
    "{\n",
    "    ROS_INFO(\"I heard: [%s]\", msg->data.c_str());\n",
    "    std::cout << \"I heard: [\" << msg->data << \"]\" << std::endl;;\n",
    "}"
   ]
  },
  {
   "cell_type": "markdown",
   "id": "2ae88ed2-8104-4d80-afb9-a8450a0886d8",
   "metadata": {},
   "source": [
    "Initialize ROS Subscriber "
   ]
  },
  {
   "cell_type": "code",
   "execution_count": null,
   "id": "5f53cc42-ce8a-4da8-8639-4b115119957b",
   "metadata": {},
   "outputs": [],
   "source": [
    "ros::Subscriber sub = n.subscribe(\"test_pub_sub\", 1000, chatterCallback);"
   ]
  },
  {
   "cell_type": "markdown",
   "id": "7aea442f-b366-42d1-ae23-b31a2dbeb4ea",
   "metadata": {},
   "source": [
    "### Write a basic publisher to publish value to topic we have defined above\n",
    "Initialize ROS Publisher "
   ]
  },
  {
   "cell_type": "code",
   "execution_count": null,
   "id": "4b34689e-c40c-4322-bcb7-c42582be691b",
   "metadata": {},
   "outputs": [],
   "source": [
    "ros::Publisher chatter_pub = n.advertise<std_msgs::String>(\"test_pub_sub\", 1000);\n",
    "ros::Rate loop_rate(10);"
   ]
  },
  {
   "cell_type": "code",
   "execution_count": null,
   "id": "e78cb0ab-3540-4106-b996-c084de932ad2",
   "metadata": {},
   "outputs": [],
   "source": [
    "int count = 0;\n",
    "// # Create a thread no while counter to stop the while loop.\n",
    "while (ros::ok() && count < 100)\n",
    "{\n",
    "    std_msgs::String msg;\n",
    "    std::stringstream ss;\n",
    "    ss << \"hello world \" << count;\n",
    "    msg.data = ss.str();\n",
    "    ROS_INFO(\"%s\", msg.data.c_str());\n",
    "    std::cout << msg.data << std::endl;\n",
    "    chatter_pub.publish(msg);\n",
    "    ros::spinOnce();\n",
    "    loop_rate.sleep();\n",
    "    ++count;\n",
    "}"
   ]
  }
 ],
 "metadata": {
  "kernelspec": {
   "display_name": "C++17",
   "language": "C++17",
   "name": "xcpp17"
  },
  "language_info": {
   "codemirror_mode": "text/x-c++src",
   "file_extension": ".cpp",
   "mimetype": "text/x-c++src",
   "name": "c++",
   "version": "-std=c++17"
  }
 },
 "nbformat": 4,
 "nbformat_minor": 5
}
