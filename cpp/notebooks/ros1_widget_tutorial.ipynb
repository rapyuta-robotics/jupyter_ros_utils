{
 "cells": [
  {
   "cell_type": "markdown",
   "id": "9ed828cb-43ae-4592-a06c-6b41275be43e",
   "metadata": {},
   "source": [
    "# **Tutorial to explore ROS 1**"
   ]
  },
  {
   "cell_type": "markdown",
   "id": "4e853e6e-b262-4634-8419-743b78a0eb2b",
   "metadata": {},
   "source": [
    "## **Prepare the environment for roscpp**"
   ]
  },
  {
   "cell_type": "code",
   "execution_count": null,
   "id": "8210c14f-cdbc-45a7-bc90-7f25829883ce",
   "metadata": {},
   "outputs": [],
   "source": [
    "! python3 ../scripts/generate_cling_3rd_party.py roscpp"
   ]
  },
  {
   "cell_type": "code",
   "execution_count": null,
   "id": "197ce37a-1dba-4e24-850e-c353053afa42",
   "metadata": {},
   "outputs": [],
   "source": [
    "#include \"load_roscpp.h\""
   ]
  },
  {
   "cell_type": "markdown",
   "id": "de94cfa3-162b-4b59-89c4-e1ed915b27ef",
   "metadata": {},
   "source": [
    "### **Let's Begin with ROS Param**"
   ]
  },
  {
   "cell_type": "code",
   "execution_count": null,
   "id": "7e106b28-e60f-46c5-8a23-10ef1912319a",
   "metadata": {},
   "outputs": [],
   "source": [
    "#include \"jupyter_ros_utils/ros1_param.hpp\""
   ]
  },
  {
   "cell_type": "code",
   "execution_count": null,
   "id": "35bcbb65-2a54-4244-8651-05b6bc277627",
   "metadata": {},
   "outputs": [],
   "source": [
    "ros_init(\"param_widget\")"
   ]
  },
  {
   "cell_type": "code",
   "execution_count": null,
   "id": "f3cdf144-bc08-45fa-86a3-5f11fc397088",
   "metadata": {},
   "outputs": [],
   "source": [
    "ZeusParam zp1(\"/asd\");\n",
    "zp1.display();"
   ]
  },
  {
   "cell_type": "markdown",
   "id": "22e13bc2-8ce1-4ad0-ae19-e078f8e6aeb4",
   "metadata": {},
   "source": [
    "**NOTE:-** Before running the code below, try to press \"Start Waiting\" on the widgets above.\n",
    "You'd be able to see the changes from ❌ <-> ✅ after running the `rosparam set` or `rosparam delete`"
   ]
  },
  {
   "cell_type": "code",
   "execution_count": null,
   "id": "fd8543c3-283f-43ed-bfb1-51ffa8dcd4bd",
   "metadata": {},
   "outputs": [],
   "source": [
    "! rosparam set /asd some_value"
   ]
  },
  {
   "cell_type": "code",
   "execution_count": null,
   "id": "31ab2084-4c6a-4e04-90c6-754eec3685a2",
   "metadata": {},
   "outputs": [],
   "source": [
    "! rosparam delete /asd "
   ]
  },
  {
   "cell_type": "code",
   "execution_count": null,
   "id": "2965b62b-79d0-4743-93f9-09ae968e9cc9",
   "metadata": {},
   "outputs": [],
   "source": [
    "! rosparam set /asd new_value"
   ]
  },
  {
   "cell_type": "code",
   "execution_count": null,
   "id": "c1b3d3cb-c2c1-4c4e-9be1-6535c82d3cbd",
   "metadata": {},
   "outputs": [],
   "source": [
    "! ros::shutdown()"
   ]
  },
  {
   "cell_type": "markdown",
   "id": "63770ee8-77f6-45eb-92c6-daf8c33577fb",
   "metadata": {},
   "source": [
    "## **ROS Publisher**"
   ]
  },
  {
   "cell_type": "markdown",
   "id": "28708a1e-99cd-4ec4-b820-2ded681735b5",
   "metadata": {},
   "source": [
    "### **Load ROS publisher**."
   ]
  },
  {
   "cell_type": "code",
   "execution_count": null,
   "id": "886fe071-690a-4190-9b4d-f8927319546b",
   "metadata": {},
   "outputs": [],
   "source": [
    "#include \"jupyter_ros_utils/ros1_publisher.hpp\""
   ]
  },
  {
   "cell_type": "code",
   "execution_count": null,
   "id": "5c016d7f-6f88-4332-94f9-31c1bf9d4dc7",
   "metadata": {},
   "outputs": [],
   "source": [
    "ros_init(\"cpp_ros_async_callback_publisher\");"
   ]
  },
  {
   "cell_type": "code",
   "execution_count": null,
   "id": "43ea2cb3-3621-4b0a-ba99-6e8969c35a76",
   "metadata": {},
   "outputs": [],
   "source": [
    "#include <std_msgs/UInt32.h>\n",
    "\n",
    "uint32_t data = 0;"
   ]
  },
  {
   "cell_type": "markdown",
   "id": "1e43516a-ba56-4273-8535-13e7089ffe2b",
   "metadata": {},
   "source": [
    "### **Initialize ROS Spinner and start publisher**\n",
    "This widget will use publish data using pub_callback and show it in the stream"
   ]
  },
  {
   "cell_type": "code",
   "execution_count": null,
   "id": "db89e15f-55f8-4ba9-b8d6-82d3ef53c539",
   "metadata": {},
   "outputs": [],
   "source": [
    "ros_init(\"cpp_ros_async_callback_publisher\");"
   ]
  },
  {
   "cell_type": "code",
   "execution_count": null,
   "id": "de86e5ae-6589-4491-87ef-e93f40b7a001",
   "metadata": {},
   "outputs": [],
   "source": [
    "std_msgs::UInt32 pub_callback() {\n",
    "    std_msgs::UInt32 msg;\n",
    "    msg.data = data;\n",
    "    ++data;\n",
    "    ROS_INFO(\"%d\", data);\n",
    "    \n",
    "    return msg;\n",
    "}"
   ]
  },
  {
   "cell_type": "code",
   "execution_count": null,
   "id": "705fc97c-a411-4ad7-b0ba-f42c23d2b1ec",
   "metadata": {},
   "outputs": [],
   "source": [
    "ZeusPublisher pub(\"/magic/uint\", pub_callback);"
   ]
  },
  {
   "cell_type": "code",
   "execution_count": null,
   "id": "29d73b56-f54f-4c64-9577-2bb4ec499cb4",
   "metadata": {},
   "outputs": [],
   "source": [
    "! ros::shutdown()"
   ]
  },
  {
   "cell_type": "markdown",
   "id": "d339170f-c43a-42eb-988d-df9457fdc42c",
   "metadata": {},
   "source": [
    "## **ROS Subscriber**"
   ]
  },
  {
   "cell_type": "markdown",
   "id": "f2d92037-0d68-4417-bf1e-f11becf9d60c",
   "metadata": {},
   "source": [
    "### **Load ROS Subscriber**."
   ]
  },
  {
   "cell_type": "code",
   "execution_count": null,
   "id": "de5f1335-9084-44dd-9755-c4d96712aac8",
   "metadata": {},
   "outputs": [],
   "source": [
    "#include \"jupyter_ros_utils/ros1_subscriber.hpp\""
   ]
  },
  {
   "cell_type": "markdown",
   "id": "0c990c19-e277-4ce8-835e-4596da115194",
   "metadata": {},
   "source": [
    "### **Initialize ROS Spinner and start subscriber.**"
   ]
  },
  {
   "cell_type": "code",
   "execution_count": null,
   "id": "05a244c4-c122-4e58-9979-3b6298976ff7",
   "metadata": {},
   "outputs": [],
   "source": [
    "#include <std_msgs/String.h>\n",
    "\n",
    "void cb(const std_msgs::String& msg) {\n",
    "    std::cout << msg << \"\\n\";\n",
    "}\n",
    "\n",
    "// warning: don't run 2 subscribers on same topic at the same time\n",
    "ros_init(\"cpp_ros_async_subscriber\");\n",
    "ZeusSubscriber sub1(\"/magic/lol\", cb, true);"
   ]
  },
  {
   "cell_type": "code",
   "execution_count": null,
   "id": "9b2a5261-ff07-4944-b124-6e76787609bb",
   "metadata": {},
   "outputs": [],
   "source": [
    "! ros::shutdown()"
   ]
  }
 ],
 "metadata": {
  "kernelspec": {
   "display_name": "C++17",
   "language": "C++17",
   "name": "xcpp17"
  },
  "language_info": {
   "codemirror_mode": "text/x-c++src",
   "file_extension": ".cpp",
   "mimetype": "text/x-c++src",
   "name": "c++",
   "version": "-std=c++17"
  }
 },
 "nbformat": 4,
 "nbformat_minor": 5
}
