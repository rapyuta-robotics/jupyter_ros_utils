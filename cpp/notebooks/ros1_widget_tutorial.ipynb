{
 "cells": [
  {
   "cell_type": "markdown",
   "id": "9ed828cb-43ae-4592-a06c-6b41275be43e",
   "metadata": {},
   "source": [
    "# **Tutorial to explore ROS 1 with widgets**"
   ]
  },
  {
   "cell_type": "markdown",
   "id": "4e853e6e-b262-4634-8419-743b78a0eb2b",
   "metadata": {},
   "source": [
    "## **Prepare the environment for roscpp**\n",
    "\n",
    "**NOTE :-** Before starting the tutorial remember to run roscore in other terminal."
   ]
  },
  {
   "cell_type": "code",
   "execution_count": null,
   "id": "8210c14f-cdbc-45a7-bc90-7f25829883ce",
   "metadata": {},
   "outputs": [],
   "source": [
    "! python3 ../scripts/generate_cling_3rd_party.py roscpp"
   ]
  },
  {
   "cell_type": "code",
   "execution_count": null,
   "id": "197ce37a-1dba-4e24-850e-c353053afa42",
   "metadata": {},
   "outputs": [],
   "source": [
    "#include \"load_roscpp.h\""
   ]
  },
  {
   "cell_type": "code",
   "execution_count": null,
   "id": "37b9ea65-3918-4505-924b-1c7492cee713",
   "metadata": {},
   "outputs": [],
   "source": [
    "#include \"jupyter_ros_utils/ros1_jupyter.hpp\""
   ]
  },
  {
   "cell_type": "code",
   "execution_count": null,
   "id": "c31cd8c5-2545-49bd-9f6b-bf50b86aa0f9",
   "metadata": {},
   "outputs": [],
   "source": [
    "ros_init(\"ROS1_Tutorial_with_widget\");"
   ]
  },
  {
   "cell_type": "markdown",
   "id": "de94cfa3-162b-4b59-89c4-e1ed915b27ef",
   "metadata": {},
   "source": [
    "### **Let's Begin with ROS Param**"
   ]
  },
  {
   "cell_type": "code",
   "execution_count": null,
   "id": "f3cdf144-bc08-45fa-86a3-5f11fc397088",
   "metadata": {},
   "outputs": [],
   "source": [
    "ZeusParam zp1(\"/asd\");\n",
    "zp1.display();"
   ]
  },
  {
   "cell_type": "markdown",
   "id": "22e13bc2-8ce1-4ad0-ae19-e078f8e6aeb4",
   "metadata": {},
   "source": [
    "### **Control Param Widget**\n",
    "Set Param button sets ros parameters.\n",
    "This parameter starts to be monitored after pressing Start Waiting button.\n",
    "\n",
    "Before running the code below, try to press \"Start Waiting\" on the widgets above. You'd be able to see the changes from ❌ <-> ✅ after running the rosparam set or rosparam delete"
   ]
  },
  {
   "cell_type": "code",
   "execution_count": null,
   "id": "fd8543c3-283f-43ed-bfb1-51ffa8dcd4bd",
   "metadata": {},
   "outputs": [],
   "source": [
    "! rosparam set /asd some_value"
   ]
  },
  {
   "cell_type": "code",
   "execution_count": null,
   "id": "31ab2084-4c6a-4e04-90c6-754eec3685a2",
   "metadata": {},
   "outputs": [],
   "source": [
    "! rosparam delete /asd "
   ]
  },
  {
   "cell_type": "code",
   "execution_count": null,
   "id": "2965b62b-79d0-4743-93f9-09ae968e9cc9",
   "metadata": {},
   "outputs": [],
   "source": [
    "! rosparam set /asd new_value"
   ]
  },
  {
   "cell_type": "markdown",
   "id": "63770ee8-77f6-45eb-92c6-daf8c33577fb",
   "metadata": {},
   "source": [
    "## **ROS Publisher**"
   ]
  },
  {
   "cell_type": "markdown",
   "id": "1e43516a-ba56-4273-8535-13e7089ffe2b",
   "metadata": {},
   "source": [
    "### **Initialize ROS Spinner and start publisher**\n",
    "This widget will use publish data using pub_callback and show it in the stream"
   ]
  },
  {
   "cell_type": "code",
   "execution_count": null,
   "id": "de86e5ae-6589-4491-87ef-e93f40b7a001",
   "metadata": {},
   "outputs": [],
   "source": [
    "std_msgs::String pub_callback() {\n",
    "    std_msgs::String msg;\n",
    "    msg.data = \"hello\";\n",
    "    \n",
    "    return msg;\n",
    "}"
   ]
  },
  {
   "cell_type": "code",
   "execution_count": null,
   "id": "705fc97c-a411-4ad7-b0ba-f42c23d2b1ec",
   "metadata": {},
   "outputs": [],
   "source": [
    "ZeusPublisher pub(\"/magic/uint\", pub_callback);"
   ]
  },
  {
   "cell_type": "markdown",
   "id": "d339170f-c43a-42eb-988d-df9457fdc42c",
   "metadata": {},
   "source": [
    "## **ROS Subscriber**"
   ]
  },
  {
   "cell_type": "markdown",
   "id": "0c990c19-e277-4ce8-835e-4596da115194",
   "metadata": {},
   "source": [
    "### **Initialize ROS Spinner and start subscriber.**"
   ]
  },
  {
   "cell_type": "code",
   "execution_count": null,
   "id": "05a244c4-c122-4e58-9979-3b6298976ff7",
   "metadata": {},
   "outputs": [],
   "source": [
    "#include <std_msgs/String.h>\n",
    "\n",
    "void cb(const std_msgs::String& msg) {\n",
    "    std::cout << msg << \"\\n\";\n",
    "}\n",
    "\n",
    "ZeusSubscriber sub1(\"/magic/uint\", cb, true);"
   ]
  }
 ],
 "metadata": {
  "kernelspec": {
   "display_name": "C++17",
   "language": "C++17",
   "name": "xcpp17"
  },
  "language_info": {
   "codemirror_mode": "text/x-c++src",
   "file_extension": ".cpp",
   "mimetype": "text/x-c++src",
   "name": "c++",
   "version": "-std=c++17"
  }
 },
 "nbformat": 4,
 "nbformat_minor": 5
}
