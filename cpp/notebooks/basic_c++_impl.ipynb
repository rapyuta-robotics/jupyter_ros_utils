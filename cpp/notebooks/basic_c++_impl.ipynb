{
 "cells": [
  {
   "cell_type": "markdown",
   "id": "1e99d303-7e8f-40b6-b542-ff12c36b890b",
   "metadata": {},
   "source": [
    "# Basic C++ Implemetnation for OpenCV and PCL"
   ]
  },
  {
   "cell_type": "markdown",
   "id": "89a4a28a-4e5c-4f17-9950-43a6904a54c8",
   "metadata": {},
   "source": [
    "**OpenCV4 is the version in 20.04**\n",
    "\n",
    "If you use Ubuntu 18.04, you need to change it to opencv3.\n",
    "Unfortunately the OpenCV's pkg-config isn't configured properly, e.g. it's outputing `-I/usr/include/opencv` instead of `-I/usr/include/` and it causes weird behavior"
   ]
  },
  {
   "cell_type": "code",
   "execution_count": null,
   "id": "c66677ae-b3b6-460a-8083-3f3dbd75a1f8",
   "metadata": {},
   "outputs": [],
   "source": [
    "! ../scripts/generate_cling_3rd_party.py opencv4"
   ]
  },
  {
   "cell_type": "code",
   "execution_count": null,
   "id": "ebd0a84d-560f-4229-8f24-a9a907ed52f3",
   "metadata": {},
   "outputs": [],
   "source": [
    "#include \"load_opencv4.h\""
   ]
  },
  {
   "cell_type": "code",
   "execution_count": null,
   "id": "30fd7922-1c54-4648-afe7-5cbd5f3d1f17",
   "metadata": {},
   "outputs": [],
   "source": [
    "#include <opencv2/opencv.hpp>\n",
    "\n",
    "cv::Mat mat1(255, 255, CV_8UC3);\n",
    "cv::Mat mat2;\n",
    "mat1.copyTo(mat2);"
   ]
  },
  {
   "cell_type": "markdown",
   "id": "431ea632-fd53-4357-99a0-7bd7f475bf56",
   "metadata": {},
   "source": [
    "**For Ubuntu 20.04**\n",
    "\n",
    "A point structure representing Euclidean xyz coordinates\n",
    "[pcl::PointXYZ](https://pointclouds.org/documentation/structpcl_1_1_point_x_y_z.html#details)"
   ]
  },
  {
   "cell_type": "code",
   "execution_count": null,
   "id": "668d6617-03ab-4a3b-a748-41bef33c8bfc",
   "metadata": {},
   "outputs": [],
   "source": [
    "! ../scripts/generate_cling_3rd_party.py eigen3"
   ]
  },
  {
   "cell_type": "code",
   "execution_count": null,
   "id": "aed4796f-f411-48b3-a641-6fbbc0a2dabc",
   "metadata": {},
   "outputs": [],
   "source": [
    "! ../scripts/generate_cling_3rd_party.py pcl_common-1.10"
   ]
  },
  {
   "cell_type": "code",
   "execution_count": null,
   "id": "f2a1682e-4f6f-4efb-b049-fb4f48d526d6",
   "metadata": {},
   "outputs": [],
   "source": [
    "#include \"load_eigen3.h\"\n",
    "#include \"load_pcl_common-1.10.h\""
   ]
  },
  {
   "cell_type": "code",
   "execution_count": null,
   "id": "5bbd403a-29a4-4c52-8a49-06079b665db0",
   "metadata": {},
   "outputs": [],
   "source": [
    "#include <pcl/point_cloud.h>\n",
    "#include <pcl/point_types.h>\n",
    "\n",
    "pcl::PointXYZ pt;\n",
    "pt.x = 1.0;\n",
    "pt.y = 2.0;\n",
    "pt.z = 3.0;\n",
    "\n",
    "pcl::PointCloud<pcl::PointXYZ> pc;\n",
    "pc.push_back(pt);"
   ]
  },
  {
   "cell_type": "markdown",
   "id": "2062dd17-7a33-4787-b689-21c89c98b09e",
   "metadata": {},
   "source": [
    "**For Ubuntu 18.04**"
   ]
  },
  {
   "cell_type": "code",
   "execution_count": null,
   "id": "d303f061-deb7-4cc5-a032-3e9e4edf9411",
   "metadata": {},
   "outputs": [],
   "source": [
    "! ../scripts/generate_cling_3rd_party.py eigen3"
   ]
  },
  {
   "cell_type": "code",
   "execution_count": null,
   "id": "7065e3bd-3be9-4d35-9dcb-94cf577275fc",
   "metadata": {},
   "outputs": [],
   "source": [
    "! ../scripts/generate_cling_3rd_party.py pcl_common-1.8"
   ]
  },
  {
   "cell_type": "code",
   "execution_count": null,
   "id": "3c93af56-b72b-4649-af0c-6ec1cc9b4ea0",
   "metadata": {},
   "outputs": [],
   "source": [
    "#include \"load_eigen3.h\"\n",
    "#include \"load_pcl_common-1.8.h\""
   ]
  },
  {
   "cell_type": "code",
   "execution_count": null,
   "id": "cb510873-d903-4d91-ad9d-9d298582a915",
   "metadata": {},
   "outputs": [],
   "source": [
    "#include <pcl/point_cloud.h>\n",
    "#include <pcl/point_types.h>\n",
    "\n",
    "pcl::PointXYZ pt;\n",
    "pt.x = 1.0;\n",
    "pt.y = 2.0;\n",
    "pt.z = 3.0;\n",
    "\n",
    "pcl::PointCloud<pcl::PointXYZ> pc;\n",
    "pc.push_back(pt);"
   ]
  }
 ],
 "metadata": {
  "kernelspec": {
   "display_name": "C++14",
   "language": "C++14",
   "name": "xcpp14"
  },
  "language_info": {
   "codemirror_mode": "text/x-c++src",
   "file_extension": ".cpp",
   "mimetype": "text/x-c++src",
   "name": "c++",
   "version": "-std=c++14"
  }
 },
 "nbformat": 4,
 "nbformat_minor": 5
}
